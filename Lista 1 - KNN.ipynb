{
 "cells": [
  {
   "cell_type": "markdown",
   "metadata": {},
   "source": [
    "# Código do KNN"
   ]
  },
  {
   "cell_type": "markdown",
   "metadata": {},
   "source": [
    "## Imports"
   ]
  },
  {
   "cell_type": "code",
   "execution_count": 113,
   "metadata": {},
   "outputs": [],
   "source": [
    "from functools import reduce\n",
    "import numpy as np\n",
    "import numpy.linalg as LA\n",
    "import math"
   ]
  },
  {
   "cell_type": "markdown",
   "metadata": {},
   "source": [
    "## Classe KNN"
   ]
  },
  {
   "cell_type": "code",
   "execution_count": 116,
   "metadata": {},
   "outputs": [
    {
     "name": "stdout",
     "output_type": "stream",
     "text": [
      "[0, 1, 0]\n",
      "[0, 0, 0]\n"
     ]
    },
    {
     "data": {
      "text/plain": [
       "{'hitRate': 0.6666666666666666, 'missRate': 0.3333333333333333}"
      ]
     },
     "execution_count": 116,
     "metadata": {},
     "output_type": "execute_result"
    }
   ],
   "source": [
    "class KNN:\n",
    "    @staticmethod\n",
    "    def BLOCK_DISTANCE(a, b):\n",
    "        '''Or distance of Manhattan. Considers only movements in axis directions.'''\n",
    "        return np.sum(np.absolute(a-b))\n",
    "\n",
    "    @staticmethod\n",
    "    def EUCLIDEAN_DISTANCE(a, b):\n",
    "        '''The shortest route between two points.'''\n",
    "        return LA.norm(a-b)\n",
    "\n",
    "    @staticmethod\n",
    "    def NO_WEIGHT(acc, i):\n",
    "        '''Just counts the frequency of every label.'''\n",
    "        (label, _) = i\n",
    "        if (label in acc):\n",
    "            acc[label] += 1\n",
    "        else:\n",
    "            acc[label] = 1\n",
    "        return acc\n",
    "\n",
    "    @staticmethod\n",
    "    def WEIGHTED(acc, i):\n",
    "        '''Weights the values by their distance.'''\n",
    "        (label, distance) = i\n",
    "        if (label in acc):\n",
    "            acc[label] += 1 / (distance ** 2)\n",
    "        else:\n",
    "            acc[label] = 1 / (distance ** 2)\n",
    "        return acc\n",
    "\n",
    "    def __init__(self, distance = None, k = 3, weight = None, adaptive = False):\n",
    "        self.samples = []\n",
    "        self.distance = KNN.EUCLIDEAN_DISTANCE if distance == None else distance\n",
    "        self.k = k\n",
    "        self.weight = KNN.NO_WEIGHT if weight == None else weight\n",
    "        self.adaptive = adaptive\n",
    "    \n",
    "    def calculateRadius(self, sample):\n",
    "        '''Calculates the radius for the adaptive distance.\n",
    "        If the distance for the classification is changed this function should be called again.'''\n",
    "        distances = [(s[-1], self.distance(sample[0:-1], s[0:-1])) for s in self.samples]\n",
    "        distances.sort(key = lambda i: i[1])\n",
    "        for i in distances:\n",
    "            if i[0] != sample[-1]:\n",
    "                return i[1]\n",
    "        return math.inf\n",
    "\n",
    "    def train(self, training):\n",
    "        '''Trains the kNN.'''\n",
    "        self.samples = training\n",
    "        self.sampleRadius = [self.calculateRadius(i) for i in self.samples]\n",
    "        print(self.sampleRadius)\n",
    "\n",
    "    def classify(self, sample):\n",
    "        '''Classifies a single sample.'''\n",
    "        closest = self.find_closest(sample)\n",
    "        votes = reduce(self.weight, closest, dict())\n",
    "        chosen = max(votes.keys(), key = lambda i: votes[i])\n",
    "        return chosen\n",
    "\n",
    "    def test(self, testSamples):\n",
    "        '''Tests the kNN efficiency in classifying its samples.'''\n",
    "        realResults = [i[-1] for i in testSamples]\n",
    "        print(realResults)\n",
    "        testResults = [self.classify(i) for i in testSamples]\n",
    "        print(testResults)\n",
    "        matched = [a == b for (a, b) in zip(realResults, testResults)]\n",
    "        return {\n",
    "            \"hitRate\": matched.count(True) / len(realResults),\n",
    "            \"missRate\": matched.count(False) / len(realResults)\n",
    "        }\n",
    "\n",
    "    def find_closest(self, sample):\n",
    "        '''Finds the closest k samples.'''\n",
    "        if self.adaptive:\n",
    "            distances = [(s[-1], self.distance(sample[0:-1], s[0:-1]) / self.sampleRadius[i])\\\n",
    "                        for s in self.samples]\n",
    "        else:\n",
    "            distances = [(s[-1], self.distance(sample[0:-1], s[0:-1])) for s in self.samples]\n",
    "        distances.sort(key = lambda i: i[1])\n",
    "        return distances[0:self.k]\n",
    "\n",
    "a = KNN()\n",
    "a.train(np.array([[0, 1, 0], [1, 9, 1], [4, 8, 0], [2, 4, 1], [6, 3, 0]]))\n",
    "a.test(np.array([[0, 1, 0], [4, 3, 1], [9, 4, 0]]))"
   ]
  },
  {
   "cell_type": "markdown",
   "metadata": {},
   "source": [
    "# Avaliações"
   ]
  },
  {
   "cell_type": "code",
   "execution_count": 108,
   "metadata": {},
   "outputs": [],
   "source": [
    "from scipy.io import arff\n",
    "import numpy as np\n",
    "import pandas as pd\n",
    "from time import process_time"
   ]
  },
  {
   "cell_type": "markdown",
   "metadata": {},
   "source": [
    "## Base de Dados 1 - "
   ]
  },
  {
   "cell_type": "code",
   "execution_count": 94,
   "metadata": {},
   "outputs": [
    {
     "data": {
      "text/plain": [
       "array([[   1.1,    1.4,    1.4, ...,    1.2,    1.4,    0. ],\n",
       "       [   1. ,    1. ,    1. , ...,    1. ,    1. ,    1. ],\n",
       "       [  24. ,    5. ,    1. , ...,   19. ,    9. ,    0. ],\n",
       "       ..., \n",
       "       [  82. ,   11. ,    3. , ...,  190. ,   21. ,    1. ],\n",
       "       [  10. ,    2. ,    1. , ...,   13. ,    3. ,    1. ],\n",
       "       [  28. ,    6. ,    5. , ...,   37. ,   11. ,    1. ]])"
      ]
     },
     "execution_count": 94,
     "metadata": {},
     "output_type": "execute_result"
    }
   ],
   "source": [
    "data = arff.loadarff('Datasets/cm1.arff')\n",
    "dataFrame = pd.DataFrame(data[0])\n",
    "dataFrame.defects = [1 if i == b'true' else 0 for i in dataFrame.defects]\n",
    "rawData = dataFrame.values\n",
    "rawData"
   ]
  },
  {
   "cell_type": "code",
   "execution_count": 95,
   "metadata": {},
   "outputs": [
    {
     "data": {
      "text/plain": [
       "{0.0: array([[  1.1,   1.4,   1.4, ...,   1.2,   1.4,   0. ],\n",
       "        [ 24. ,   5. ,   1. , ...,  19. ,   9. ,   0. ],\n",
       "        [ 20. ,   4. ,   4. , ...,  16. ,   7. ,   0. ],\n",
       "        ..., \n",
       "        [  4. ,   1. ,   1. , ...,   6. ,   1. ,   0. ],\n",
       "        [  3. ,   1. ,   1. , ...,   2. ,   1. ,   0. ],\n",
       "        [ 12. ,   3. ,   1. , ...,  25. ,   5. ,   0. ]]),\n",
       " 1.0: array([[   1.,    1.,    1., ...,    1.,    1.,    1.],\n",
       "        [  31.,    4.,    1., ...,   51.,    7.,    1.],\n",
       "        [  29.,    5.,    1., ...,   37.,    9.,    1.],\n",
       "        ..., \n",
       "        [  82.,   11.,    3., ...,  190.,   21.,    1.],\n",
       "        [  10.,    2.,    1., ...,   13.,    3.,    1.],\n",
       "        [  28.,    6.,    5., ...,   37.,   11.,    1.]])}"
      ]
     },
     "execution_count": 95,
     "metadata": {},
     "output_type": "execute_result"
    }
   ],
   "source": [
    "# Separating samples by class\n",
    "classes = {i[-1]: rawData[np.where(rawData[:,-1] == i[-1])] for i in rawData}\n",
    "classes"
   ]
  },
  {
   "cell_type": "code",
   "execution_count": 98,
   "metadata": {},
   "outputs": [],
   "source": [
    "# k-fold\n",
    "k = 10\n",
    "def k_fold(sepSamples, k):\n",
    "    folds = [[] for _ in range(k)]\n",
    "    for i in sepSamples:\n",
    "        splitClass = np.array_split(sepSamples[i], k)\n",
    "        [a.extend(b) for (a, b) in zip(folds, splitClass)]\n",
    "    return folds\n",
    "    \n",
    "folds = k_fold(classes, k)"
   ]
  },
  {
   "cell_type": "code",
   "execution_count": 118,
   "metadata": {},
   "outputs": [
    {
     "name": "stdout",
     "output_type": "stream",
     "text": [
      "Testing on fold: 0\n",
      "[0.0, 0.0, 0.0, 0.0, 0.0, 0.0, 0.0, 0.0, 0.0, 0.0, 0.0, 0.0, 0.0, 0.0, 0.0, 0.0, 0.0, 0.0, 0.0, 0.0, 0.0, 0.0, 0.0, 0.0, 0.0, 0.0, 0.0, 0.0, 0.0, 0.0, 0.0, 0.0, 0.0, 0.0, 0.0, 0.0, 0.0, 0.0, 0.0, 0.0, 0.0, 0.0, 0.0, 0.0, 0.0, 1.0, 1.0, 1.0, 1.0, 1.0]\n",
      "[0.0, 0.0, 0.0, 0.0, 0.0, 0.0, 0.0, 0.0, 0.0, 0.0, 0.0, 0.0, 0.0, 0.0, 0.0, 0.0, 0.0, 1.0, 0.0, 0.0, 0.0, 0.0, 0.0, 0.0, 0.0, 0.0, 0.0, 1.0, 0.0, 0.0, 1.0, 0.0, 0.0, 0.0, 0.0, 0.0, 0.0, 1.0, 0.0, 0.0, 0.0, 0.0, 1.0, 1.0, 0.0, 0.0, 0.0, 0.0, 0.0, 0.0]\n",
      "Testing on fold: 1\n",
      "[0.0, 0.0, 0.0, 0.0, 0.0, 0.0, 0.0, 0.0, 0.0, 0.0, 0.0, 0.0, 0.0, 0.0, 0.0, 0.0, 0.0, 0.0, 0.0, 0.0, 0.0, 0.0, 0.0, 0.0, 0.0, 0.0, 0.0, 0.0, 0.0, 0.0, 0.0, 0.0, 0.0, 0.0, 0.0, 0.0, 0.0, 0.0, 0.0, 0.0, 0.0, 0.0, 0.0, 0.0, 0.0, 1.0, 1.0, 1.0, 1.0, 1.0]\n",
      "[0.0, 0.0, 0.0, 0.0, 0.0, 0.0, 0.0, 0.0, 0.0, 0.0, 0.0, 0.0, 0.0, 0.0, 0.0, 0.0, 0.0, 0.0, 0.0, 0.0, 0.0, 0.0, 0.0, 0.0, 0.0, 0.0, 0.0, 1.0, 0.0, 0.0, 0.0, 0.0, 0.0, 0.0, 0.0, 0.0, 0.0, 0.0, 0.0, 0.0, 0.0, 0.0, 0.0, 0.0, 0.0, 0.0, 0.0, 0.0, 1.0, 0.0]\n",
      "Testing on fold: 2\n",
      "[0.0, 0.0, 0.0, 0.0, 0.0, 0.0, 0.0, 0.0, 0.0, 0.0, 0.0, 0.0, 0.0, 0.0, 0.0, 0.0, 0.0, 0.0, 0.0, 0.0, 0.0, 0.0, 0.0, 0.0, 0.0, 0.0, 0.0, 0.0, 0.0, 0.0, 0.0, 0.0, 0.0, 0.0, 0.0, 0.0, 0.0, 0.0, 0.0, 0.0, 0.0, 0.0, 0.0, 0.0, 0.0, 1.0, 1.0, 1.0, 1.0, 1.0]\n",
      "[0.0, 0.0, 0.0, 0.0, 0.0, 0.0, 0.0, 0.0, 0.0, 0.0, 0.0, 0.0, 0.0, 0.0, 0.0, 0.0, 0.0, 0.0, 0.0, 0.0, 0.0, 0.0, 0.0, 0.0, 0.0, 0.0, 0.0, 0.0, 0.0, 0.0, 0.0, 0.0, 0.0, 0.0, 0.0, 0.0, 1.0, 0.0, 0.0, 0.0, 0.0, 0.0, 0.0, 0.0, 0.0, 0.0, 0.0, 0.0, 0.0, 0.0]\n",
      "Testing on fold: 3\n",
      "[0.0, 0.0, 0.0, 0.0, 0.0, 0.0, 0.0, 0.0, 0.0, 0.0, 0.0, 0.0, 0.0, 0.0, 0.0, 0.0, 0.0, 0.0, 0.0, 0.0, 0.0, 0.0, 0.0, 0.0, 0.0, 0.0, 0.0, 0.0, 0.0, 0.0, 0.0, 0.0, 0.0, 0.0, 0.0, 0.0, 0.0, 0.0, 0.0, 0.0, 0.0, 0.0, 0.0, 0.0, 0.0, 1.0, 1.0, 1.0, 1.0, 1.0]\n",
      "[0.0, 0.0, 0.0, 0.0, 0.0, 0.0, 0.0, 0.0, 0.0, 1.0, 1.0, 1.0, 0.0, 0.0, 0.0, 1.0, 0.0, 0.0, 0.0, 0.0, 0.0, 0.0, 0.0, 0.0, 0.0, 0.0, 0.0, 0.0, 0.0, 0.0, 0.0, 0.0, 0.0, 0.0, 0.0, 1.0, 1.0, 0.0, 0.0, 0.0, 0.0, 0.0, 0.0, 0.0, 0.0, 0.0, 0.0, 0.0, 0.0, 0.0]\n",
      "Testing on fold: 4\n",
      "[0.0, 0.0, 0.0, 0.0, 0.0, 0.0, 0.0, 0.0, 0.0, 0.0, 0.0, 0.0, 0.0, 0.0, 0.0, 0.0, 0.0, 0.0, 0.0, 0.0, 0.0, 0.0, 0.0, 0.0, 0.0, 0.0, 0.0, 0.0, 0.0, 0.0, 0.0, 0.0, 0.0, 0.0, 0.0, 0.0, 0.0, 0.0, 0.0, 0.0, 0.0, 0.0, 0.0, 0.0, 0.0, 1.0, 1.0, 1.0, 1.0, 1.0]\n",
      "[0.0, 0.0, 0.0, 0.0, 0.0, 0.0, 0.0, 1.0, 0.0, 0.0, 0.0, 0.0, 0.0, 0.0, 0.0, 0.0, 0.0, 0.0, 0.0, 0.0, 0.0, 0.0, 0.0, 0.0, 0.0, 0.0, 0.0, 0.0, 0.0, 0.0, 1.0, 0.0, 0.0, 0.0, 0.0, 0.0, 0.0, 0.0, 0.0, 0.0, 0.0, 0.0, 0.0, 0.0, 1.0, 0.0, 0.0, 0.0, 0.0, 0.0]\n",
      "Testing on fold: 5\n",
      "[0.0, 0.0, 0.0, 0.0, 0.0, 0.0, 0.0, 0.0, 0.0, 0.0, 0.0, 0.0, 0.0, 0.0, 0.0, 0.0, 0.0, 0.0, 0.0, 0.0, 0.0, 0.0, 0.0, 0.0, 0.0, 0.0, 0.0, 0.0, 0.0, 0.0, 0.0, 0.0, 0.0, 0.0, 0.0, 0.0, 0.0, 0.0, 0.0, 0.0, 0.0, 0.0, 0.0, 0.0, 0.0, 1.0, 1.0, 1.0, 1.0, 1.0]\n",
      "[0.0, 0.0, 0.0, 0.0, 0.0, 0.0, 0.0, 0.0, 0.0, 0.0, 0.0, 0.0, 0.0, 0.0, 1.0, 0.0, 0.0, 0.0, 0.0, 0.0, 0.0, 0.0, 0.0, 0.0, 0.0, 0.0, 0.0, 0.0, 0.0, 0.0, 0.0, 0.0, 0.0, 0.0, 0.0, 0.0, 0.0, 0.0, 0.0, 0.0, 0.0, 0.0, 0.0, 0.0, 0.0, 0.0, 0.0, 0.0, 0.0, 0.0]\n",
      "Testing on fold: 6\n",
      "[0.0, 0.0, 0.0, 0.0, 0.0, 0.0, 0.0, 0.0, 0.0, 0.0, 0.0, 0.0, 0.0, 0.0, 0.0, 0.0, 0.0, 0.0, 0.0, 0.0, 0.0, 0.0, 0.0, 0.0, 0.0, 0.0, 0.0, 0.0, 0.0, 0.0, 0.0, 0.0, 0.0, 0.0, 0.0, 0.0, 0.0, 0.0, 0.0, 0.0, 0.0, 0.0, 0.0, 0.0, 0.0, 1.0, 1.0, 1.0, 1.0, 1.0]\n",
      "[0.0, 0.0, 0.0, 0.0, 0.0, 0.0, 0.0, 0.0, 0.0, 0.0, 0.0, 0.0, 0.0, 0.0, 0.0, 0.0, 0.0, 0.0, 0.0, 0.0, 0.0, 0.0, 0.0, 0.0, 0.0, 1.0, 1.0, 0.0, 0.0, 0.0, 0.0, 0.0, 0.0, 0.0, 0.0, 0.0, 0.0, 0.0, 0.0, 0.0, 0.0, 0.0, 0.0, 0.0, 0.0, 0.0, 0.0, 0.0, 0.0, 0.0]\n",
      "Testing on fold: 7\n",
      "[0.0, 0.0, 0.0, 0.0, 0.0, 0.0, 0.0, 0.0, 0.0, 0.0, 0.0, 0.0, 0.0, 0.0, 0.0, 0.0, 0.0, 0.0, 0.0, 0.0, 0.0, 0.0, 0.0, 0.0, 0.0, 0.0, 0.0, 0.0, 0.0, 0.0, 0.0, 0.0, 0.0, 0.0, 0.0, 0.0, 0.0, 0.0, 0.0, 0.0, 0.0, 0.0, 0.0, 0.0, 0.0, 1.0, 1.0, 1.0, 1.0, 1.0]\n",
      "[0.0, 0.0, 0.0, 0.0, 0.0, 0.0, 0.0, 0.0, 0.0, 0.0, 0.0, 0.0, 0.0, 0.0, 0.0, 0.0, 0.0, 0.0, 0.0, 0.0, 0.0, 0.0, 0.0, 0.0, 0.0, 0.0, 0.0, 0.0, 0.0, 0.0, 0.0, 0.0, 0.0, 0.0, 1.0, 1.0, 0.0, 0.0, 1.0, 0.0, 0.0, 0.0, 0.0, 0.0, 0.0, 0.0, 0.0, 0.0, 0.0, 0.0]\n",
      "Testing on fold: 8\n",
      "[0.0, 0.0, 0.0, 0.0, 0.0, 0.0, 0.0, 0.0, 0.0, 0.0, 0.0, 0.0, 0.0, 0.0, 0.0, 0.0, 0.0, 0.0, 0.0, 0.0, 0.0, 0.0, 0.0, 0.0, 0.0, 0.0, 0.0, 0.0, 0.0, 0.0, 0.0, 0.0, 0.0, 0.0, 0.0, 0.0, 0.0, 0.0, 0.0, 0.0, 0.0, 0.0, 0.0, 0.0, 0.0, 1.0, 1.0, 1.0, 1.0, 1.0]\n",
      "[0.0, 0.0, 0.0, 0.0, 0.0, 0.0, 0.0, 0.0, 0.0, 0.0, 0.0, 0.0, 0.0, 0.0, 0.0, 0.0, 0.0, 0.0, 0.0, 0.0, 0.0, 0.0, 0.0, 0.0, 0.0, 0.0, 0.0, 0.0, 0.0, 0.0, 0.0, 0.0, 0.0, 0.0, 0.0, 0.0, 0.0, 0.0, 0.0, 0.0, 0.0, 0.0, 0.0, 0.0, 0.0, 0.0, 0.0, 0.0, 0.0, 0.0]\n",
      "Testing on fold: 9\n",
      "[0.0, 0.0, 0.0, 0.0, 0.0, 0.0, 0.0, 0.0, 0.0, 0.0, 0.0, 0.0, 0.0, 0.0, 0.0, 0.0, 0.0, 0.0, 0.0, 0.0, 0.0, 0.0, 0.0, 0.0, 0.0, 0.0, 0.0, 0.0, 0.0, 0.0, 0.0, 0.0, 0.0, 0.0, 0.0, 0.0, 0.0, 0.0, 0.0, 0.0, 0.0, 0.0, 0.0, 0.0, 1.0, 1.0, 1.0, 1.0]\n",
      "[0.0, 0.0, 0.0, 0.0, 0.0, 0.0, 0.0, 0.0, 0.0, 0.0, 0.0, 0.0, 0.0, 0.0, 0.0, 0.0, 0.0, 1.0, 0.0, 0.0, 0.0, 0.0, 0.0, 0.0, 0.0, 0.0, 0.0, 0.0, 0.0, 0.0, 0.0, 0.0, 0.0, 0.0, 0.0, 0.0, 0.0, 0.0, 0.0, 0.0, 0.0, 0.0, 0.0, 0.0, 0.0, 0.0, 0.0, 0.0]\n"
     ]
    },
    {
     "data": {
      "text/plain": [
       "{'results': [{'hitRate': 0.78, 'missRate': 0.22},\n",
       "  {'hitRate': 0.9, 'missRate': 0.1},\n",
       "  {'hitRate': 0.88, 'missRate': 0.12},\n",
       "  {'hitRate': 0.78, 'missRate': 0.22},\n",
       "  {'hitRate': 0.84, 'missRate': 0.16},\n",
       "  {'hitRate': 0.88, 'missRate': 0.12},\n",
       "  {'hitRate': 0.86, 'missRate': 0.14},\n",
       "  {'hitRate': 0.84, 'missRate': 0.16},\n",
       "  {'hitRate': 0.9, 'missRate': 0.1},\n",
       "  {'hitRate': 0.8958333333333334, 'missRate': 0.10416666666666667}],\n",
       " 'testTimes': [0.140625,\n",
       "  0.109375,\n",
       "  0.140625,\n",
       "  0.140625,\n",
       "  0.15625,\n",
       "  0.140625,\n",
       "  0.140625,\n",
       "  0.125,\n",
       "  0.140625,\n",
       "  0.125],\n",
       " 'trainTimes': [1.28125,\n",
       "  1.25,\n",
       "  1.5625,\n",
       "  1.296875,\n",
       "  1.234375,\n",
       "  1.28125,\n",
       "  1.25,\n",
       "  1.28125,\n",
       "  1.25,\n",
       "  1.234375]}"
      ]
     },
     "execution_count": 118,
     "metadata": {},
     "output_type": "execute_result"
    }
   ],
   "source": [
    "def cross_validation(knn, folds):\n",
    "    results = []\n",
    "    trainTimes = []\n",
    "    testTimes = []\n",
    "    for i in range(len(folds)):\n",
    "        print(\"Testing on fold: \" + str(i))\n",
    "        train = [s for j, fold in enumerate(folds) if i != j for s in fold]\n",
    "        test = folds[i]\n",
    "\n",
    "        trainTimes.append(process_time())\n",
    "        knn.train(train)\n",
    "        trainTimes[-1] = process_time() - trainTimes[-1]\n",
    "\n",
    "        testTimes.append(process_time())\n",
    "        results.append(knn.test(test))\n",
    "        testTimes[-1] = process_time() - testTimes[-1]\n",
    "    return {'results': results, 'trainTimes': trainTimes, 'testTimes': testTimes}\n",
    "        \n",
    "knn = KNN()\n",
    "cross_validation(knn, folds)"
   ]
  },
  {
   "cell_type": "markdown",
   "metadata": {},
   "source": [
    "### KNN sem peso"
   ]
  },
  {
   "cell_type": "code",
   "execution_count": 66,
   "metadata": {},
   "outputs": [
    {
     "name": "stdout",
     "output_type": "stream",
     "text": [
      "[0.0, 0.0, 0.0, 0.0, 0.0, 0.0, 0.0, 0.0, 0.0, 0.0, 0.0, 0.0, 0.0, 0.0, 0.0, 0.0, 0.0, 0.0, 0.0, 0.0, 0.0, 0.0, 0.0, 0.0, 0.0, 0.0, 0.0, 0.0, 0.0, 0.0, 0.0, 0.0, 0.0, 0.0, 0.0, 0.0, 0.0, 0.0, 0.0, 0.0, 0.0, 0.0, 0.0, 0.0, 0.0, 0.0, 0.0, 0.0, 0.0, 0.0, 1.0, 1.0, 1.0, 1.0, 1.0, 1.0, 1.0, 1.0, 1.0, 1.0, 1.0, 1.0, 1.0, 1.0, 1.0, 1.0, 1.0, 1.0, 1.0, 1.0, 1.0, 1.0, 1.0, 1.0, 1.0, 1.0, 1.0, 1.0, 1.0, 1.0, 1.0, 1.0, 1.0, 1.0, 1.0, 1.0, 1.0, 1.0, 1.0, 1.0, 1.0, 1.0, 1.0, 1.0, 1.0, 1.0, 1.0]\n",
      "[0.0, 0.0, 0.0, 0.0, 0.0, 0.0, 0.0, 0.0, 0.0, 0.0, 0.0, 0.0, 0.0, 0.0, 0.0, 0.0, 0.0, 0.0, 0.0, 0.0, 0.0, 0.0, 0.0, 0.0, 0.0, 0.0, 0.0, 0.0, 0.0, 0.0, 0.0, 0.0, 0.0, 0.0, 0.0, 0.0, 0.0, 0.0, 0.0, 0.0, 0.0, 0.0, 0.0, 0.0, 0.0, 0.0, 0.0, 0.0, 0.0, 0.0, 0.0, 0.0, 0.0, 0.0, 0.0, 0.0, 0.0, 0.0, 0.0, 0.0, 0.0, 0.0, 0.0, 0.0, 0.0, 0.0, 0.0, 0.0, 0.0, 0.0, 0.0, 0.0, 0.0, 0.0, 0.0, 0.0, 0.0, 0.0, 0.0, 0.0, 0.0, 0.0, 0.0, 0.0, 0.0, 0.0, 0.0, 0.0, 0.0, 0.0, 0.0, 0.0, 0.0, 0.0, 0.0, 0.0, 0.0]\n"
     ]
    },
    {
     "data": {
      "text/plain": [
       "{'hitRate': 0.5154639175257731, 'missRate': 0.4845360824742268}"
      ]
     },
     "execution_count": 66,
     "metadata": {},
     "output_type": "execute_result"
    }
   ],
   "source": [
    "knn = KNN()\n",
    "knn.train(rawData[0:400])\n",
    "knn.test(rawData[400:-1])"
   ]
  },
  {
   "cell_type": "markdown",
   "metadata": {},
   "source": [
    "### KNN com peso"
   ]
  },
  {
   "cell_type": "markdown",
   "metadata": {},
   "source": [
    "### KNN adaptativo sem peso"
   ]
  },
  {
   "cell_type": "markdown",
   "metadata": {},
   "source": [
    "## Base de Dados 2 - "
   ]
  },
  {
   "cell_type": "markdown",
   "metadata": {},
   "source": [
    "### KNN sem peso"
   ]
  },
  {
   "cell_type": "markdown",
   "metadata": {},
   "source": [
    "### KNN com peso"
   ]
  },
  {
   "cell_type": "markdown",
   "metadata": {},
   "source": [
    "### KNN adaptativo sem peso"
   ]
  },
  {
   "cell_type": "markdown",
   "metadata": {},
   "source": [
    "# Conclusão"
   ]
  }
 ],
 "metadata": {
  "kernelspec": {
   "display_name": "redesNeurais",
   "language": "python",
   "name": "redesneurais"
  },
  "language_info": {
   "codemirror_mode": {
    "name": "ipython",
    "version": 3
   },
   "file_extension": ".py",
   "mimetype": "text/x-python",
   "name": "python",
   "nbconvert_exporter": "python",
   "pygments_lexer": "ipython3",
   "version": "3.6.6"
  }
 },
 "nbformat": 4,
 "nbformat_minor": 2
}

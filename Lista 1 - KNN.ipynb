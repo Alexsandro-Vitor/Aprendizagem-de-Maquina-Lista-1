{
 "cells": [
  {
   "cell_type": "markdown",
   "metadata": {},
   "source": [
    "# Código do KNN"
   ]
  },
  {
   "cell_type": "markdown",
   "metadata": {},
   "source": [
    "## Imports"
   ]
  },
  {
   "cell_type": "code",
   "execution_count": 1,
   "metadata": {},
   "outputs": [],
   "source": [
    "from functools import reduce\n",
    "import math"
   ]
  },
  {
   "cell_type": "markdown",
   "metadata": {},
   "source": [
    "## Classe KNN"
   ]
  },
  {
   "cell_type": "code",
   "execution_count": 8,
   "metadata": {},
   "outputs": [
    {
     "name": "stdout",
     "output_type": "stream",
     "text": [
      "[0, 1, 0]\n",
      "[0, 0, 0]\n"
     ]
    },
    {
     "data": {
      "text/plain": [
       "{'hitRate': 0.6666666666666666, 'missRate': 0.3333333333333333}"
      ]
     },
     "execution_count": 8,
     "metadata": {},
     "output_type": "execute_result"
    }
   ],
   "source": [
    "class KNN:\n",
    "    @staticmethod\n",
    "    def BLOCK_DISTANCE(a, b):\n",
    "        '''Or distance of Manhattan. Considers only 1-dim movement.'''\n",
    "        distances_1d = [abs(x - y) for x, y in zip(a, b)]\n",
    "        print(distances_1d)\n",
    "        return sum(distances_1d)\n",
    "\n",
    "    @staticmethod\n",
    "    def EUCLIDEAN_DISTANCE(a, b):\n",
    "        '''The shortest route between two points.'''\n",
    "        distances_1d = [(x - y) ** 2 for x, y in zip(a, b)]\n",
    "        return sum(distances_1d) ** (1/2)\n",
    "\n",
    "    @staticmethod\n",
    "    def NO_WEIGHT(acc, i):\n",
    "        '''Just counts the frequency of every label.'''\n",
    "        (label, _) = i\n",
    "        if (label in acc):\n",
    "            acc[label] += 1\n",
    "        else:\n",
    "            acc[label] = 1\n",
    "        return acc\n",
    "\n",
    "    @staticmethod\n",
    "    def WEIGHTED(acc, i):\n",
    "        '''Weights the values by their distance.'''\n",
    "        (label, distance) = i\n",
    "        if (label in acc):\n",
    "            acc[label] += 1 / (distance ** 2)\n",
    "        else:\n",
    "            acc[label] = 1 / (distance ** 2)\n",
    "        return acc\n",
    "\n",
    "    def __init__(self, distance = KNN.EUCLIDEAN_DISTANCE, k = 3, weight = KNN.NO_WEIGHT, adaptive = False):\n",
    "        self.samples = []\n",
    "        self.distance = distance\n",
    "        self.k = k\n",
    "        self.weight = weight\n",
    "        self.adaptive = adaptive\n",
    "    \n",
    "    def calculateRadius(self, sample):\n",
    "        '''Calculates the radius for the adaptive distance.\n",
    "        If the distance for the classification is changed this function should be called again.'''\n",
    "        distances = [(s[-1], self.distance(sample[0:-1], s[0:-1])) for s in self.samples]\n",
    "        distances.sort(key = lambda i: i[1])\n",
    "        for i in distances:\n",
    "            if i[0] != sample[-1]:\n",
    "                return i[1]\n",
    "        return math.inf\n",
    "\n",
    "    def train(self, training):\n",
    "        '''Trains the kNN.'''\n",
    "        self.samples = training\n",
    "        self.sampleRadius = [self.calculateRadius(i) for i in self.samples]\n",
    "\n",
    "    def classify(self, sample):\n",
    "        '''Classifies a single sample.'''\n",
    "        closest = self.find_closest(sample)\n",
    "        votes = reduce(self.weight, closest, dict())\n",
    "        chosen = max(votes.keys(), key = lambda i: votes[i])\n",
    "        return chosen\n",
    "\n",
    "    def test(self, testSamples):\n",
    "        '''Tests the kNN efficiency in classifying its samples.'''\n",
    "        realResults = [i[-1] for i in testSamples]\n",
    "        print(realResults)\n",
    "        testResults = [self.classify(i) for i in testSamples]\n",
    "        print(testResults)\n",
    "        matched = [a == b for (a, b) in zip(realResults, testResults)]\n",
    "        return {\n",
    "            \"hitRate\": matched.count(True) / len(realResults),\n",
    "            \"missRate\": matched.count(False) / len(realResults)\n",
    "        }\n",
    "\n",
    "    def find_closest(self, sample):\n",
    "        '''Finds the closest k samples.'''\n",
    "        if self.adaptive:\n",
    "            distances = [(s[-1], self.distance(sample[0:-1], s[0:-1]) / self.sampleRadius[i])\\\n",
    "                        for s in self.samples]\n",
    "        else:\n",
    "            distances = [(s[-1], self.distance(sample[0:-1], s[0:-1])) for s in self.samples]\n",
    "        distances.sort(key = lambda i: i[1])\n",
    "        return distances[0:self.k]\n",
    "\n",
    "a = KNN()\n",
    "a.train([[0, 1, 0], [1, 9, 1], [4, 8, 0], [2, 4, 1], [6, 3, 0]])\n",
    "a.test([[0, 1, 0], [4, 3, 1], [9, 4, 0]])"
   ]
  },
  {
   "cell_type": "markdown",
   "metadata": {},
   "source": [
    "# Avaliações"
   ]
  },
  {
   "cell_type": "markdown",
   "metadata": {},
   "source": [
    "## Base de Dados 1 - "
   ]
  },
  {
   "cell_type": "markdown",
   "metadata": {},
   "source": [
    "'### KNN sem peso"
   ]
  },
  {
   "cell_type": "markdown",
   "metadata": {},
   "source": [
    "### KNN com peso"
   ]
  },
  {
   "cell_type": "markdown",
   "metadata": {},
   "source": [
    "### KNN adaptativo sem peso"
   ]
  },
  {
   "cell_type": "markdown",
   "metadata": {},
   "source": [
    "## Base de Dados 2 - "
   ]
  },
  {
   "cell_type": "markdown",
   "metadata": {},
   "source": [
    "### KNN sem peso"
   ]
  },
  {
   "cell_type": "markdown",
   "metadata": {},
   "source": [
    "### KNN com peso"
   ]
  },
  {
   "cell_type": "markdown",
   "metadata": {},
   "source": [
    "### KNN adaptativo sem peso"
   ]
  },
  {
   "cell_type": "markdown",
   "metadata": {},
   "source": [
    "# Conclusão"
   ]
  }
 ],
 "metadata": {
  "kernelspec": {
   "display_name": "redesNeurais",
   "language": "python",
   "name": "redesneurais"
  },
  "language_info": {
   "codemirror_mode": {
    "name": "ipython",
    "version": 3
   },
   "file_extension": ".py",
   "mimetype": "text/x-python",
   "name": "python",
   "nbconvert_exporter": "python",
   "pygments_lexer": "ipython3",
   "version": "3.6.6"
  }
 },
 "nbformat": 4,
 "nbformat_minor": 2
}
